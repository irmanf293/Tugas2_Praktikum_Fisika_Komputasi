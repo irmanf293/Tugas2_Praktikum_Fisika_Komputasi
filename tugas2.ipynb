{
 "cells": [
  {
   "cell_type": "code",
   "execution_count": null,
   "metadata": {},
   "outputs": [],
   "source": [
    "Berat sebuah benda sebesar 25,6 N. Jika percepatan gravitasi sebesar 9,8 N/Kg, hitung berapa besar massa benda tersebut!\n",
    "w = m.g\n",
    "m = w/g\n",
    "m = 25,6 N / 9,8 N/Kg\n",
    "m = 2,6122 Kg"
   ]
  },
  {
   "cell_type": "code",
   "execution_count": 2,
   "metadata": {},
   "outputs": [
    {
     "name": "stdout",
     "output_type": "stream",
     "text": [
      "2.6122448979591835 Kg\n"
     ]
    }
   ],
   "source": [
    "# w = mg\n",
    "w = 25.6  #N\n",
    "g = 9.8  #N/Kg\n",
    "\n",
    "# m = w/g\n",
    "m = w / g\n",
    "print(m, \"Kg\")"
   ]
  }
 ],
 "metadata": {
  "kernelspec": {
   "display_name": "Python 3",
   "language": "python",
   "name": "python3"
  },
  "language_info": {
   "codemirror_mode": {
    "name": "ipython",
    "version": 3
   },
   "file_extension": ".py",
   "mimetype": "text/x-python",
   "name": "python",
   "nbconvert_exporter": "python",
   "pygments_lexer": "ipython3",
   "version": "3.10.10"
  }
 },
 "nbformat": 4,
 "nbformat_minor": 2
}
